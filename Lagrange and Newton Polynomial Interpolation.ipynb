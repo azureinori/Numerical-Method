{
 "cells": [
  {
   "cell_type": "markdown",
   "metadata": {},
   "source": [
    "# Lagrange Polynomial Interpolation"
   ]
  },
  {
   "cell_type": "code",
   "execution_count": 1,
   "metadata": {},
   "outputs": [],
   "source": [
    "import numpy as np\n",
    "\n",
    "def f(x):\n",
    "    return 1/(1+25*x**2)\n",
    "\n",
    "def p(n,x):\n",
    "    xi = np.arange(-1,1,2/(2*n))\n",
    "    xi = np.append(xi,1)\n",
    "    yi = f(xi)\n",
    "    lsum = 0.0\n",
    "    for k in range(0,2*n+1):\n",
    "        t = 1\n",
    "        for j in range(0,2*n+1):\n",
    "            if k!=j:\n",
    "                t *= (x-xi[j])/(xi[k]-xi[j])\n",
    "        lsum = t * yi[k] + lsum\n",
    "    return lsum"
   ]
  },
  {
   "cell_type": "code",
   "execution_count": 2,
   "metadata": {},
   "outputs": [
    {
     "name": "stdout",
     "output_type": "stream",
     "text": [
      "0.038461538461538464 , 0.038461538461538464\n",
      "0.13793103448275862 , 0.13793103448275862\n",
      "1.0 , 1.0\n",
      "0.13793103448275862 , 0.13793103448275862\n",
      "0.038461538461538464 , 0.038461538461538464\n"
     ]
    }
   ],
   "source": [
    "print(f(-1),',', p(2,-1))\n",
    "print(f(-0.5),',', p(2,-0.5))\n",
    "print(f(0),',', p(2,0))\n",
    "print(f(0.5),',', p(2,0.5))\n",
    "print(f(1),',', p(2,1))"
   ]
  },
  {
   "cell_type": "code",
   "execution_count": 3,
   "metadata": {},
   "outputs": [
    {
     "name": "stdout",
     "output_type": "stream",
     "text": [
      "5.288409412076401\n",
      "39.99488935134494\n",
      "57409.22012089382\n",
      "0.6824356138235009\n",
      "3.4024987834706715\n",
      "2287.683837136467\n"
     ]
    }
   ],
   "source": [
    "print(abs(f(1-(1/(2*7))) - p(7,1-(1/(2*7)))))\n",
    "print(abs(f(1-(1/(2*10)))- p(10,1-(1/(2*10)))))\n",
    "print(abs(f(1-(1/(2*20))) - p(20,1-(1/(2*20)))))\n",
    "print(abs(f(1-(3/(2*7))) - p(7,1-(3/(2*7)))))\n",
    "print(abs(f(1-(3/(2*10)))- p(10,1-(3/(2*10)))))\n",
    "print(abs(f(1-(3/(2*20))) - p(20,1-(3/(2*20)))))"
   ]
  },
  {
   "cell_type": "markdown",
   "metadata": {},
   "source": [
    "# Newton Polynomial Interpolation"
   ]
  },
  {
   "cell_type": "code",
   "execution_count": 4,
   "metadata": {},
   "outputs": [],
   "source": [
    "import numpy as np\n",
    "def f(x): return 1/(1+25*x**2)\n",
    "def coefficient(xi, fi):  #calculate f[x0, x1, x2 ... xn] \n",
    "    if len(xi) > 2 and len(fi) > 2:\n",
    "        return ((coefficient(xi[:(len(xi)-1)], fi[:(len(fi)-1)]) - coefficient(xi[1:len(xi)], fi[1:len(fi)])) / float(xi[0] - xi[-1]))\n",
    "    else: \n",
    "        return (fi[0] - fi[1]) / float(xi[0] - xi[1])\n",
    "\n",
    "def P(n, x):  #Newton\n",
    "    xi = np.arange(-1,1,2/(2*n)) \n",
    "    xi = np.append(xi, 1)\n",
    "    yi = []\n",
    "    for i in range(len(xi)): yi.append(f(xi[i]))\n",
    "    \n",
    "    def wi(degree):  #W1 = (x - x0); W2 = (x - x0)(x - x1); W3 = (x - x0)(x - x1)(x - x2)\n",
    "        Wi = 1\n",
    "        for i in range(degree):\n",
    "            Wi *= (x - xi[i])\n",
    "        return Wi\n",
    "\n",
    "    Nsum = yi[0]  #the first coefficient\n",
    "    for i in range(2, len(xi)+1):\n",
    "        Nsum += (coefficient(xi[:i], yi[:i]) * wi(i-1))\n",
    "    return Nsum"
   ]
  },
  {
   "cell_type": "code",
   "execution_count": 5,
   "metadata": {},
   "outputs": [
    {
     "name": "stdout",
     "output_type": "stream",
     "text": [
      "0.038461538461538464 , 0.038461538461538464\n",
      "0.13793103448275862 , 0.13793103448275862\n",
      "1.0 , 1.0\n",
      "0.13793103448275862 , 0.1379310344827589\n",
      "0.038461538461538464 , 0.038461538461538325\n"
     ]
    }
   ],
   "source": [
    "print(f(-1),',', P(2,-1))\n",
    "print(f(-0.5),',', P(2,-0.5))\n",
    "print(f(0),',', P(2,0))\n",
    "print(f(0.5),',', P(2,0.5))\n",
    "print(f(1),',', P(2,1))"
   ]
  },
  {
   "cell_type": "code",
   "execution_count": null,
   "metadata": {},
   "outputs": [
    {
     "name": "stdout",
     "output_type": "stream",
     "text": [
      "5.288409412077314\n",
      "39.99488935136616\n"
     ]
    }
   ],
   "source": [
    "print(abs(f(1-(1/(2*7))) - P(7,1-(1/(2*7)))))\n",
    "print(abs(f(1-(1/(2*10)))- P(10,1-(1/(2*10)))))\n",
    "print(abs(f(1-(1/(2*20))) - P(20,1-(1/(2*20)))))\n",
    "print(abs(f(1-(3/(2*7))) - P(7,1-(3/(2*7)))))\n",
    "print(abs(f(1-(3/(2*10)))- P(10,1-(3/(2*10)))))\n",
    "print(abs(f(1-(3/(2*20))) - P(20,1-(3/(2*20)))))"
   ]
  },
  {
   "cell_type": "code",
   "execution_count": null,
   "metadata": {},
   "outputs": [],
   "source": [
    "#Teacher's solution\n",
    "def PN(n,x):\n",
    "    N = 2*n\n",
    "    X = list(range(2*n+1)) #data abscissas(2*n+1 values)\n",
    "    for i in range(-n,n+1):\n",
    "        Y = list(range(2*n+1))\n",
    "    for i in range(-n, n+1): #dataordination (2*n+1 values)\n",
    "        Y[n+i] = f(i/n)\n",
    "    a = list(range(2*n+1))\n",
    "    a[0] = Y[0] #coefficient of poly. in triangle form\n",
    "    for j in range(1,N+1):\n",
    "        for i in range(N-j+i):\n",
    "            Y[i] = (Y[i]-Y[i+1])/(X[i]-X[i+j])\n",
    "            a[j] = Y[0]\n",
    "    sum = 0\n",
    "    for j in range(N+1):\n",
    "        term = a[j]\n",
    "        for i in range(j):\n",
    "            term+=x-X[j]\n",
    "        sum+=term\n",
    "    return sum  #return value"
   ]
  }
 ],
 "metadata": {
  "kernelspec": {
   "display_name": "Python 3",
   "language": "python",
   "name": "python3"
  },
  "language_info": {
   "codemirror_mode": {
    "name": "ipython",
    "version": 3
   },
   "file_extension": ".py",
   "mimetype": "text/x-python",
   "name": "python",
   "nbconvert_exporter": "python",
   "pygments_lexer": "ipython3",
   "version": "3.6.5"
  }
 },
 "nbformat": 4,
 "nbformat_minor": 2
}
